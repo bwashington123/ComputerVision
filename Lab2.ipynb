{
  "nbformat": 4,
  "nbformat_minor": 0,
  "metadata": {
    "colab": {
      "provenance": [],
      "collapsed_sections": [],
      "authorship_tag": "ABX9TyP76LoWtG1q6SZmPRazdyoo",
      "include_colab_link": true
    },
    "kernelspec": {
      "name": "python3",
      "display_name": "Python 3"
    },
    "language_info": {
      "name": "python"
    }
  },
  "cells": [
    {
      "cell_type": "markdown",
      "metadata": {
        "id": "view-in-github",
        "colab_type": "text"
      },
      "source": [
        "<a href=\"https://colab.research.google.com/github/bwashington123/ComputerVision/blob/main/Lab2.ipynb\" target=\"_parent\"><img src=\"https://colab.research.google.com/assets/colab-badge.svg\" alt=\"Open In Colab\"/></a>"
      ]
    },
    {
      "cell_type": "code",
      "execution_count": 21,
      "metadata": {
        "colab": {
          "base_uri": "https://localhost:8080/"
        },
        "id": "XGkWYvegBiyt",
        "outputId": "7d7020f7-1f2e-4b40-94cf-8486d67e60a3"
      },
      "outputs": [
        {
          "output_type": "stream",
          "name": "stdout",
          "text": [
            "YASS!\n",
            "YASS!\n",
            "YASS!\n",
            "NOOO!\n",
            "NOOO!\n",
            "NOOO!\n",
            "HELLO!!!!!!\n",
            "A\n",
            "B\n",
            "C\n",
            "4\n",
            "['A', 'B', 'C', 4]\n",
            "['A', 'B', 'C', 4]\n",
            "['A', 'B', 'C', 4]\n",
            "1000\n",
            "1000\n",
            "1000\n"
          ]
        }
      ],
      "source": [
        "def PrintThreeTimes(word):\n",
        "  for x in range(3):\n",
        "    print(word)\n",
        "\n",
        "PrintThreeTimes('YASS!')\n",
        "PrintThreeTimes('NOOO!')\n",
        "# Function definitions\n",
        "\n",
        "def PrintThreeTimes():\n",
        "  \"\"\"This will print hello three times \"\"\"\n",
        "  for x in ['ComputerVision:)']:\n",
        "    print(\"HELLO!!!!!!\")\n",
        "    \n",
        "PrintThreeTimes()\n",
        "\n",
        "(328 * 68)/23 + (2**10)\n",
        "\n",
        "x = ['A','B','C','4']\n",
        "\n",
        "list (x)\n",
        "\n",
        "for i in x:\n",
        "    print(i)\n",
        "\n",
        "def PrintElementList(word):\n",
        "  for x in range(3):\n",
        "    print(word)\n",
        "\n",
        "\n",
        "PrintElementList(['A', 'B', 'C', 4])\n",
        "PrintElementList(1000)\n",
        "\n",
        "\n"
      ]
    }
  ]
}